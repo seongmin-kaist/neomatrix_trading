{
 "cells": [
  {
   "cell_type": "code",
   "execution_count": 1,
   "id": "6bc9840e",
   "metadata": {},
   "outputs": [
    {
     "name": "stdout",
     "output_type": "stream",
     "text": [
      "USER_KEY: cc3948f0cd364a9f684a1fe78b9229ba\n",
      "DATA_KEY: a71eaf04-802f-40be-93c2-5bee2548f4db\n"
     ]
    }
   ],
   "source": [
    "USER_KEY = \"cc3948f0cd364a9f684a1fe78b9229ba\"      #  Input your User key\n",
    "DATA_KEY = \"a71eaf04-802f-40be-93c2-5bee2548f4db\"  #  Fixed Data Api key\n",
    "\n",
    "print(\"USER_KEY:\", USER_KEY if USER_KEY else \"Not found\")\n",
    "print(\"DATA_KEY:\", DATA_KEY if DATA_KEY else \"Not found\")"
   ]
  },
  {
   "cell_type": "code",
   "execution_count": 2,
   "id": "327baee2",
   "metadata": {},
   "outputs": [
    {
     "data": {
      "text/plain": [
       "{'message': 'API Server is Running.',\n",
       " 'status': 200,\n",
       " 'User status': 'active',\n",
       " 'Expires At': '2025-09-17T00:00:00',\n",
       " 'Level': 1}"
      ]
     },
     "execution_count": 2,
     "metadata": {},
     "output_type": "execute_result"
    }
   ],
   "source": [
    "import requests\n",
    "\n",
    "root_url = f'https://aifapbt.fin.cloud.ainode.ai/'\n",
    "\n",
    "headers = {\"API-KEY\": USER_KEY}\n",
    "requests.get(root_url, headers=headers).json()"
   ]
  },
  {
   "cell_type": "code",
   "execution_count": 3,
   "id": "3528a9ec",
   "metadata": {},
   "outputs": [
    {
     "name": "stdout",
     "output_type": "stream",
     "text": [
      "📂 Upload Response: {'message': \"'simple_reverting' Strategy Updated Successfully!\"}\n"
     ]
    }
   ],
   "source": [
    "import os\n",
    "strategy_name = \"simple_reverting\"\n",
    "\n",
    "\n",
    "# Upload or Update strategy file\n",
    "endpoint = 'upload/strategy'\n",
    "url = root_url + endpoint\n",
    "\n",
    "base_path = '/Users/seongmin/Desktop/test2/futures'\n",
    "file_path = os.path.join(base_path, strategy_name, strategy_name + \".py\")\n",
    "\n",
    "params = {'tradeType':'futures', 'overwrite': True} # If overwrite is True, it will modify the existing file.\n",
    "\n",
    "with open(file_path, \"rb\") as f:\n",
    "    files = {\"file\": f}\n",
    "    response = requests.post(url, headers=headers, params=params, files=files)\n",
    "\n",
    "print(\"📂 Upload Response:\", response.json())"
   ]
  },
  {
   "cell_type": "code",
   "execution_count": 4,
   "id": "3dc29aaa",
   "metadata": {},
   "outputs": [
    {
     "name": "stdout",
     "output_type": "stream",
     "text": [
      "# strategy.py\n",
      "import pandas as pd\n",
      "import numpy as np\n",
      "\n",
      "def strategy(df: pd.DataFrame, config_dict: dict) -> dict:\n",
      "    \"\"\"\n",
      "    Implements a mean-reversion trading strategy based on Z-scores derived from\n",
      "    rolling mean and standard deviation, conceptually inspired by the Ornstein-Uhlenbeck process.\n",
      "\n",
      "    Args:\n",
      "        df (pd.DataFrame): Price time-series data.\n",
      "                           Index: datetime\n",
      "                           Columns: symbols (e.g., BTCUSDT, ETHUSDT, …)\n",
      "        config_dict (dict): Strategy settings dictionary.\n",
      "                            Expected structure:\n",
      "                            {\n",
      "                                \"strategy_config\": {\n",
      "                                    \"long_window\": int,\n",
      "                                    \"std_window\": int,\n",
      "                                    \"entry_zscore\": float,\n",
      "                                    \"exit_zscore\": float,\n",
      "                                    \"max_weight_per_symbol\": float\n",
      "                                }\n",
      "                            }\n",
      "\n",
      "    Returns:\n",
      "        dict: Weights for each symbol ({symbol: weight}).\n",
      "              Positive values = Long positions\n",
      "              Negative values = Short positions\n",
      "              The absolute sum of all weights must NOT exceed 1.0.\n",
      "    \"\"\"\n",
      "    # Input Validation\n",
      "    if not isinstance(df, pd.DataFrame):\n",
      "        raise TypeError(\"Input 'df' must be a pandas DataFrame.\")\n",
      "    if df.empty:\n",
      "        # If no data, return neutral weights.\n",
      "        return {}\n",
      "\n",
      "    # Access Strategy Specific Configuration\n",
      "    strategy_specific_config = config_dict.get(\"strategy_config\", {})\n",
      "    long_window = strategy_specific_config.get(\"long_window\", 60)\n",
      "    std_window = strategy_specific_config.get(\"std_window\", 20)\n",
      "    entry_zscore = strategy_specific_config.get(\"entry_zscore\", 1.5)\n",
      "    exit_zscore = strategy_specific_config.get(\"exit_zscore\", 0.5)\n",
      "    max_weight_per_symbol = strategy_specific_config.get(\"max_weight_per_symbol\", 0.1)\n",
      "\n",
      "    # Validate configuration parameters\n",
      "    if not isinstance(long_window, int) or long_window <= 0:\n",
      "        raise ValueError(\"Config 'long_window' must be a positive integer.\")\n",
      "    if not isinstance(std_window, int) or std_window <= 0:\n",
      "        raise ValueError(\"Config 'std_window' must be a positive integer.\")\n",
      "    if long_window < std_window:\n",
      "        raise ValueError(\"Config 'long_window' must be greater than or equal to 'std_window'.\")\n",
      "    if not isinstance(entry_zscore, (int, float)) or entry_zscore <= 0:\n",
      "        raise ValueError(\"Config 'entry_zscore' must be a positive number.\")\n",
      "    if not isinstance(exit_zscore, (int, float)) or exit_zscore <= 0:\n",
      "        raise ValueError(\"Config 'exit_zscore' must be a positive number.\")\n",
      "    if exit_zscore >= entry_zscore:\n",
      "        raise ValueError(\"Config 'exit_zscore' must be less than 'entry_zscore'.\")\n",
      "    if not isinstance(max_weight_per_symbol, (int, float)) or not (0 < max_weight_per_symbol <= 1.0):\n",
      "        raise ValueError(\"Config 'max_weight_per_symbol' must be a number between 0 (exclusive) and 1 (inclusive).\")\n",
      "\n",
      "    # Ensure enough data for rolling calculations\n",
      "    required_data_points = max(long_window, std_window)\n",
      "    if len(df) < required_data_points:\n",
      "        # Not enough data to calculate indicators, return neutral weights for all symbols\n",
      "        return {symbol: 0.0 for symbol in df.columns}\n",
      "\n",
      "    weights = {}\n",
      "    \n",
      "    # Iterate over each symbol to calculate signals and determine weights\n",
      "    for symbol in df.columns:\n",
      "        prices = df[symbol]\n",
      "\n",
      "        # Calculate rolling mean, serving as the estimated long-term mean (mu) for mean reversion\n",
      "        # min_periods ensures that NaN is returned if not enough data points are available\n",
      "        rolling_mean = prices.rolling(window=long_window, min_periods=long_window).mean().iloc[-1]\n",
      "\n",
      "        # Calculate rolling standard deviation, serving as a measure of volatility (sigma)\n",
      "        rolling_std = prices.rolling(window=std_window, min_periods=std_window).std().iloc[-1]\n",
      "\n",
      "        current_price = prices.iloc[-1]\n",
      "\n",
      "        # If rolling mean or std cannot be calculated (e.g., not enough data for min_periods)\n",
      "        # or if std is zero (no price movement), set weight to neutral.\n",
      "        if pd.isna(rolling_mean) or pd.isna(rolling_std) or rolling_std == 0:\n",
      "            weights[symbol] = 0.0\n",
      "            continue\n",
      "\n",
      "        # Calculate the Z-score: deviation from the mean in terms of standard deviations\n",
      "        z_score = (current_price - rolling_mean) / rolling_std\n",
      "\n",
      "        # Determine position based on Z-score thresholds\n",
      "        if z_score < -entry_zscore:\n",
      "            # Price is significantly below its mean, indicating an oversold condition.\n",
      "            # Expect reversion upwards, so go long.\n",
      "            weights[symbol] = max_weight_per_symbol\n",
      "        elif z_score > entry_zscore:\n",
      "            # Price is significantly above its mean, indicating an overbought condition.\n",
      "            # Expect reversion downwards, so go short.\n",
      "            weights[symbol] = -max_weight_per_symbol\n",
      "        elif abs(z_score) < exit_zscore:\n",
      "            # Price has reverted close to the mean, or is within a neutral zone.\n",
      "            # Exit any existing position.\n",
      "            weights[symbol] = 0.0\n",
      "        else:\n",
      "            # If the Z-score is between exit_zscore and entry_zscore,\n",
      "            # the strategy remains neutral or maintains its last position.\n",
      "            # In a stateless function, this means setting to 0 if no explicit entry/exit signal.\n",
      "            weights[symbol] = 0.0\n",
      "\n",
      "    # Normalize weights to ensure the absolute sum does not exceed 1.0\n",
      "    total_abs_weight = sum(abs(w) for w in weights.values())\n",
      "    if total_abs_weight > 1.0:\n",
      "        normalization_factor = 1.0 / total_abs_weight\n",
      "        for symbol in weights:\n",
      "            weights[symbol] *= normalization_factor\n",
      "\n",
      "    return weights\n"
     ]
    }
   ],
   "source": [
    "# Check strategy file upload\n",
    "endpoint = 'upload/check/strategy'\n",
    "url = root_url + endpoint\n",
    "\n",
    "params = {\"tradeType\": \"futures\", \"strategy_name\": strategy_name}\n",
    "\n",
    "response = requests.get(url, headers=headers, params=params)\n",
    "print(response.json()['content'])"
   ]
  },
  {
   "cell_type": "code",
   "execution_count": 5,
   "id": "d22099fd",
   "metadata": {},
   "outputs": [
    {
     "name": "stdout",
     "output_type": "stream",
     "text": [
      "📂 Upload Response: {'message': \"'simple_reverting' Strategy-Config Updated Successfully!\"}\n"
     ]
    }
   ],
   "source": [
    "# Upload or Update strategy-config file\n",
    "endpoint = 'upload/strategy-config'\n",
    "url = root_url + endpoint\n",
    "\n",
    "strategy_config_name = strategy_name + \"_config\"\n",
    "base_path = '/Users/seongmin/Desktop/test2/futures'\n",
    "file_path = os.path.join(base_path, strategy_name, strategy_config_name + \".py\")\n",
    "\n",
    "params = {\"tradeType\": \"futures\", \"overwrite\": True} # If overwrite is True, it will modify the existing file.\n",
    "\n",
    "with open(file_path, \"rb\") as f:\n",
    "    files = {\"file\": f}\n",
    "    response = requests.post(url, headers=headers, params=params, files=files)\n",
    "\n",
    "print(\"📂 Upload Response:\", response.json())"
   ]
  },
  {
   "cell_type": "code",
   "execution_count": 6,
   "id": "a6615c86",
   "metadata": {},
   "outputs": [
    {
     "name": "stdout",
     "output_type": "stream",
     "text": [
      "# strategy_config.py\n",
      "strategy_config = {\n",
      "    \"long_window\": 60,  # Lookback period for the long-term rolling mean (e.g., 60 minutes for 1 hour mean)\n",
      "    \"std_window\": 20,   # Lookback period for the rolling standard deviation used in Z-score calculation\n",
      "    \"entry_zscore\": 1.5, # Z-score threshold to enter a position (e.g., 1.5 standard deviations from the mean)\n",
      "    \"exit_zscore\": 0.5,  # Z-score threshold to exit a position (e.g., 0.5 standard deviations from the mean)\n",
      "    \"max_weight_per_symbol\": 0.1 # Maximum absolute weight allocated to a single symbol before overall normalization\n",
      "}\n"
     ]
    }
   ],
   "source": [
    "# Check strategy-config file upload\n",
    "endpoint = 'upload/check/strategy-config'\n",
    "url = root_url + endpoint\n",
    "\n",
    "params = {\"tradeType\": \"futures\", \"strategy_name\": strategy_name}\n",
    "\n",
    "response = requests.get(url, headers=headers, params=params)\n",
    "print(response.json()['content'])"
   ]
  },
  {
   "cell_type": "code",
   "execution_count": 8,
   "id": "f3b53456",
   "metadata": {},
   "outputs": [
    {
     "name": "stdout",
     "output_type": "stream",
     "text": [
      "📂 Upload Response: {'message': \"'Futures' System-Config Updated Successfully!\"}\n"
     ]
    }
   ],
   "source": [
    "# Upload or Update system-config file\n",
    "endpoint = \"upload/system-config\"\n",
    "url = root_url + endpoint\n",
    "\n",
    "system_config_name = \"futures_config\"\n",
    "base_path = '/Users/seongmin/Desktop/test2/futures'\n",
    "file_path = os.path.join(base_path, system_config_name + \".py\")\n",
    "\n",
    "params = {\"tradeType\": \"futures\", \"overwrite\": True} # If overwrite is True, it will modify the existing file.\n",
    "\n",
    "with open(file_path, \"rb\") as f:\n",
    "    files = {\"file\": f}\n",
    "    response = requests.post(url, headers=headers, params=params, files=files)\n",
    "\n",
    "print(\"📂 Upload Response:\", response.json())"
   ]
  },
  {
   "cell_type": "code",
   "execution_count": 9,
   "id": "74f460ae",
   "metadata": {},
   "outputs": [
    {
     "name": "stdout",
     "output_type": "stream",
     "text": [
      "# ==========================\n",
      "# Required System Settings\n",
      "# ==========================\n",
      "system_config = {\n",
      "    \"data_apikey\": \"a71eaf04-802f-40be-93c2-5bee2548f4db\",\n",
      "    \"tz_str\": \"Asia/Seoul\", \n",
      "    \"timeframe\": \"1min\",\n",
      "    \"orderType\": \"market\",\n",
      "    \"base_symbol\": \"BTCUSDT\",\n",
      "    \"productType\": \"usdt-futures\",\n",
      "    \"posMode\": \"hedge_mode\",\n",
      "    \"holdSide\": \"long\",                   \n",
      "    \"marginMode\": \"crossed\",\n",
      "    \"marginCoin\": \"usdt\",\n",
      "    \"symbols\": ['BTCUSDT', 'ETHUSDT', 'LTCUSDT', 'TRXUSDT', 'DOTUSDT', 'DOGEUSDT', 'XRPUSDT', 'BCHUSDT', 'ADAUSDT'],\n",
      "    \"leverage\": 5,\n",
      "    \"trading_hours\": 6,\n",
      "    \"total_allocation\": 0.4, \n",
      "}\n",
      "\n",
      "\n",
      "# ==========================\n",
      "# Rebalancing Trade Parameters\n",
      "# ==========================\n",
      "rebalancing_config = {\n",
      "    \"rebalancing_interval_hours\": 1, # Rebalancing cycle (hours)\n",
      "}\n",
      "\n"
     ]
    }
   ],
   "source": [
    "# Check system-config file upload\n",
    "endpoint = \"upload/check/system-config\"\n",
    "url = root_url + endpoint\n",
    "\n",
    "params = {\"tradeType\": \"futures\"}\n",
    "\n",
    "response = requests.get(url, headers=headers, params=params)\n",
    "print(response.json()['content'])"
   ]
  },
  {
   "cell_type": "code",
   "execution_count": 10,
   "id": "8de7db48",
   "metadata": {},
   "outputs": [
    {
     "name": "stdout",
     "output_type": "stream",
     "text": [
      "session_id : 0e037fbc\n",
      "dashboard : https://aifapbt.fin.cloud.ainode.ai/dashboard/live_futures_trading_dashbaord.html\n"
     ]
    }
   ],
   "source": [
    "# run-system\n",
    "endpoint = 'command/run-system'\n",
    "url = root_url + endpoint\n",
    "\n",
    "data = {\n",
    "    \"tradeType\": \"futures\",\n",
    "    \"strategy_name\": strategy_name,\n",
    "    \"trade_mode\": \"rebalancing\",\n",
    "    \"trade_env\": \"live\"\n",
    "}\n",
    "\n",
    "response = requests.post(url, headers=headers, json=data)\n",
    "\n",
    "try:\n",
    "    session_id = response.json()['session_id']\n",
    "    print('session_id :',response.json()['session_id'])\n",
    "    print('dashboard :',response.json()['dashboard_url'])\n",
    "except:\n",
    "    print('Error :',response.json()['message']['message'])\n",
    "\n",
    "    session_id = response.json()['message']['session_id']\n",
    "    print('session_id id :',session_id)\n",
    "\n",
    "    print('dashboard :',response.json()['message']['dashboard_url'])"
   ]
  },
  {
   "cell_type": "code",
   "execution_count": 11,
   "id": "875014f0",
   "metadata": {},
   "outputs": [
    {
     "name": "stdout",
     "output_type": "stream",
     "text": [
      "{'message': 'Session 0e037fbc ended'}\n"
     ]
    }
   ],
   "source": [
    "# Terminate process\n",
    "# You must execute terminate to force liquidation of the current process.\n",
    "endpoint = 'command/terminate'\n",
    "url = root_url + endpoint\n",
    "\n",
    "params = {\"session_id\": f\"{session_id}\", \"tradeType\": 'futures'}\n",
    "\n",
    "response = requests.get(url, headers=headers, params=params)\n",
    "print(response.json())"
   ]
  },
  {
   "cell_type": "code",
   "execution_count": null,
   "id": "4180fe85",
   "metadata": {},
   "outputs": [],
   "source": []
  }
 ],
 "metadata": {
  "kernelspec": {
   "display_name": "llm",
   "language": "python",
   "name": "python3"
  },
  "language_info": {
   "codemirror_mode": {
    "name": "ipython",
    "version": 3
   },
   "file_extension": ".py",
   "mimetype": "text/x-python",
   "name": "python",
   "nbconvert_exporter": "python",
   "pygments_lexer": "ipython3",
   "version": "3.13.7"
  }
 },
 "nbformat": 4,
 "nbformat_minor": 5
}
