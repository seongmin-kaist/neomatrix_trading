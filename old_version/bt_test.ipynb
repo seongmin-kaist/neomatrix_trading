{
 "cells": [
  {
   "cell_type": "code",
   "execution_count": 1,
   "id": "df212b2b",
   "metadata": {},
   "outputs": [
    {
     "name": "stdout",
     "output_type": "stream",
     "text": [
      "USER_KEY: cc3948f0cd364a9f684a1fe78b9229ba\n",
      "DATA_KEY: a71eaf04-802f-40be-93c2-5bee2548f4db\n"
     ]
    }
   ],
   "source": [
    "USER_KEY = \"cc3948f0cd364a9f684a1fe78b9229ba\"      #  Input your User key\n",
    "DATA_KEY = \"a71eaf04-802f-40be-93c2-5bee2548f4db\"  #  Fixed Data Api key\n",
    "\n",
    "print(\"USER_KEY:\", USER_KEY if USER_KEY else \"Not found\")\n",
    "print(\"DATA_KEY:\", DATA_KEY if DATA_KEY else \"Not found\")"
   ]
  },
  {
   "cell_type": "code",
   "execution_count": 2,
   "id": "82c203be",
   "metadata": {},
   "outputs": [
    {
     "data": {
      "text/plain": [
       "{'message': 'API Server is Running.',\n",
       " 'status': 200,\n",
       " 'User status': 'active',\n",
       " 'Expires At': '2025-09-24T00:00:00',\n",
       " 'Level': 1}"
      ]
     },
     "execution_count": 2,
     "metadata": {},
     "output_type": "execute_result"
    }
   ],
   "source": [
    "import requests\n",
    "\n",
    "root_url = f'https://aifapbt.fin.cloud.ainode.ai/'\n",
    "\n",
    "headers = {\"API-KEY\": USER_KEY}\n",
    "requests.get(root_url, headers=headers).json()"
   ]
  },
  {
   "cell_type": "code",
   "execution_count": 5,
   "id": "cc125fdf",
   "metadata": {},
   "outputs": [],
   "source": [
    "import os\n",
    "strategy_name = \"simple_momentum\""
   ]
  },
  {
   "cell_type": "code",
   "execution_count": 6,
   "id": "ff4cd57c",
   "metadata": {},
   "outputs": [
    {
     "name": "stdout",
     "output_type": "stream",
     "text": [
      "📂 Upload Response: {'message': \"'simple_momentum' Strategy Updated Successfully!\"}\n"
     ]
    }
   ],
   "source": [
    "# Upload or Update strategy file\n",
    "endpoint = 'upload/strategy'\n",
    "url = root_url + endpoint\n",
    "\n",
    "base_path = '/Users/seongmin/Desktop/neomatrix_trading/futures'\n",
    "file_path = os.path.join(base_path, strategy_name, strategy_name + \".py\")\n",
    "\n",
    "params = {'tradeType':'futures', 'overwrite': True} # If overwrite is True, it will modify the existing file.\n",
    "\n",
    "with open(file_path, \"rb\") as f:\n",
    "    files = {\"file\": f}\n",
    "    response = requests.post(url, headers=headers, params=params, files=files)\n",
    "\n",
    "print(\"📂 Upload Response:\", response.json())"
   ]
  },
  {
   "cell_type": "code",
   "execution_count": 7,
   "id": "ec780b4d",
   "metadata": {},
   "outputs": [
    {
     "name": "stdout",
     "output_type": "stream",
     "text": [
      "# strategy.py\n",
      "import pandas as pd\n",
      "import numpy as np\n",
      "\n",
      "def strategy(df, config_dict):\n",
      "    # --- Input validation ---\n",
      "    if not isinstance(df, pd.DataFrame):\n",
      "        raise TypeError(\"Input must be a pandas DataFrame.\")\n",
      "    if df.empty:\n",
      "        raise ValueError(\"Input DataFrame is empty.\")\n",
      "    if not isinstance(config_dict, dict):\n",
      "        raise TypeError(\"config_dict must be a dictionary.\")\n",
      "\n",
      "    # --- Load strategy-specific config ---\n",
      "    strategy_specific_config = config_dict.get(\"strategy_config\", {})\n",
      "    lookback = strategy_specific_config.get(\"lookback\", 20)\n",
      "    long_allocation_pct = strategy_specific_config.get(\"long_allocation_pct\", 0.7)\n",
      "    short_allocation_pct = strategy_specific_config.get(\"short_allocation_pct\", 0.3)\n",
      "\n",
      "    if long_allocation_pct + short_allocation_pct > 1.0:\n",
      "        raise ValueError(\"Sum of long and short allocation percentages cannot exceed 1.0\")\n",
      "\n",
      "    # --- Momentum calculation ---\n",
      "    momentum_scores = {}\n",
      "    for symbol in df.columns:\n",
      "        series = df[symbol].dropna()\n",
      "        if len(series) < lookback + 1:\n",
      "            continue\n",
      "        # momentum = current price / price lookback periods ago - 1\n",
      "        momentum = series.iloc[-1] / series.iloc[-lookback] - 1\n",
      "        momentum_scores[symbol] = momentum\n",
      "\n",
      "    if not momentum_scores:\n",
      "        return {}\n",
      "    \n",
      "    # --- Split into long and short candidates ---\n",
      "    longs = {s: m for s, m in momentum_scores.items() if m > 0}\n",
      "    shorts = {s: abs(m) for s, m in momentum_scores.items() if m < 0}\n",
      "\n",
      "    weights = {}\n",
      "\n",
      "    # --- Allocate longs proportionally ---\n",
      "    if longs:\n",
      "        long_total = sum(longs.values())\n",
      "        for s, m in longs.items():\n",
      "            weights[s] = (m / long_total) * long_allocation_pct\n",
      "\n",
      "    # --- Allocate shorts proportionally ---\n",
      "    if shorts:\n",
      "        short_total = sum(shorts.values())\n",
      "        for s, m in shorts.items():\n",
      "            weights[s] = -(m / short_total) * short_allocation_pct\n",
      "\n",
      "    # --- Final check: ensure sum(|weights|) ≤ 1.0 ---\n",
      "    total_abs = sum(abs(w) for w in weights.values())\n",
      "    \n",
      "    if total_abs > 1.0:\n",
      "        # Normalize to fit within 1.0\n",
      "        for s in weights:\n",
      "            weights[s] = weights[s] / total_abs\n",
      "\n",
      "    return weights\n",
      "\n"
     ]
    }
   ],
   "source": [
    "# Check strategy file upload\n",
    "endpoint = 'upload/check/strategy'\n",
    "url = root_url + endpoint\n",
    "\n",
    "params = {\"tradeType\": \"futures\", \"strategy_name\": strategy_name}\n",
    "\n",
    "response = requests.get(url, headers=headers, params=params)\n",
    "print(response.json()['content'])"
   ]
  },
  {
   "cell_type": "code",
   "execution_count": 8,
   "id": "4fd2ac08",
   "metadata": {},
   "outputs": [],
   "source": [
    "\"\"\"# Strategy configs\n",
    "strategy_config_params = {\n",
    "  \"rebalancing_config\": {\n",
    "    \"rebalancing_interval_hours\": 72, # Rebalancing cycle (choose between 6, 12, 24, and 72 hours)\n",
    "  },\n",
    "  \"strategy_config\": {\n",
    "    \"beta_lookback_period\": 1440,     # Lookback period in minutes for the OLS regression to calculate volatility betas. 1440 minutes equals one day.\n",
    "    \"volatility_lookback\": 60,        # Lookback period in minutes for the rolling standard deviation to calculate the market volatility proxy.\n",
    "    \"quantile_threshold\": 0.3         # The top and bottom quantile to select assets for shorting and longing. 0.3 means shorting the top 30% and longing the bottom 30% of assets based on volatility beta.\n",
    "    }\n",
    "}\n",
    "\"\"\"\n",
    "# Strategy configs\n",
    "strategy_config_params = {\n",
    "  \"rebalancing_config\": {             # Rebalancing settings\n",
    "    \"rebalancing_interval_hours\": 72, ## Rebalancing cycle (choose between 6, 12, 24, and 72 hours)\n",
    "  },\n",
    "  \"strategy_config\": {\n",
    "    \"lookback\": 60,              # Lookback period for momentum calculation\n",
    "    \"long_allocation_pct\": 0.6,  # Proportion of capital allocated to longs\n",
    "    \"short_allocation_pct\": 0.4  # Proportion of capital allocated to shorts\n",
    "    }\n",
    "}"
   ]
  },
  {
   "cell_type": "code",
   "execution_count": 11,
   "id": "38594bf7",
   "metadata": {},
   "outputs": [],
   "source": [
    "# System configs\n",
    "start_date_str = \"2025-08-01\"\n",
    "end_date_str = \"2025-08-30\"\n",
    "lookback_min = 60 # Max lookback minutes the script needs for data history\n",
    "initial_capital = 10000000\n",
    "leverage = 100\n",
    "symbols = ['BTCUSDT', 'ETHUSDT', 'XRPUSDT', 'BCHUSDT', 'LTCUSDT',\n",
    "           'ADAUSDT', 'ETCUSDT', 'TRXUSDT', 'DOTUSDT', 'DOGEUSDT']\n",
    "\n",
    "generate_report_flag = True"
   ]
  },
  {
   "cell_type": "code",
   "execution_count": 12,
   "id": "667dc61f",
   "metadata": {},
   "outputs": [
    {
     "name": "stdout",
     "output_type": "stream",
     "text": [
      "\n",
      "--- API call failed: HTTP Error 404 ---\n",
      "Error details:\n",
      "{\n",
      "  \"message\": \"The requested resource was not found. Please check the API URL.\"\n",
      "}\n"
     ]
    }
   ],
   "source": [
    "import json\n",
    "from datetime import datetime\n",
    "\n",
    "path = \"/Users/seongmin/Desktop/neomatrix_trading/backtest_report\"\n",
    "\n",
    "request_payload = {\n",
    "    \"data_apikey\": DATA_KEY,\n",
    "    \"strategy\": strategy_name,\n",
    "    \"strategy_config\": strategy_config_params,\n",
    "    \"start_date\": start_date_str,\n",
    "    \"end_date\": end_date_str,\n",
    "    \"lookback_minutes\": lookback_min,\n",
    "    \"capital\": initial_capital,\n",
    "    \"leverage\": leverage,\n",
    "    \"symbols\": symbols,\n",
    "    \"calendar\": \"24/7\",\n",
    "    \"frequency\": \"minute\",\n",
    "    \"generate_pyfolio_report\": generate_report_flag\n",
    "}\n",
    "\n",
    "endpoint = '/run/futures/backtest'\n",
    "url = root_url + endpoint\n",
    "\n",
    "try:\n",
    "    response = requests.post(url, json=request_payload, headers=headers)\n",
    "    response.raise_for_status()\n",
    "    print(f\"\\n--- Backtest execution successful (Status Code: {response.status_code}) ---\")\n",
    "\n",
    "    try:\n",
    "        result_data = response.json()\n",
    "        report_type = result_data.get('report_type') # Check report type\n",
    "\n",
    "        if report_type == 'html':\n",
    "            print(\"Report Type: HTML Report included.\")\n",
    "            html_content = result_data.get('html_content')\n",
    "            logs = result_data.get('logs', 'No stderr logs received.')\n",
    "            stdout_logs = result_data.get('stdout', 'No stdout received.')\n",
    "\n",
    "            if html_content:\n",
    "                if not os.path.exists(path):\n",
    "                    os.makedirs(path)\n",
    "\n",
    "                report_filename = os.path.join(path, f\"{datetime.now().strftime('%Y-%m-%d %H:%M')}_{strategy_name}_backtest_report.html\")\n",
    "                try:\n",
    "                    with open(report_filename, \"w\", encoding=\"utf-8\") as f:\n",
    "                        f.write(html_content)\n",
    "                    print(f\"HTML report received and saved successfully as '{report_filename}'.\")\n",
    "                except Exception as e:\n",
    "                    print(f\"ERROR: Failed to save received HTML report: {e}\")\n",
    "                    print(\"\\n--- Received HTML Content (Snippet) ---\")\n",
    "                    print(html_content[:1000] + \"...\") # Output some content when saving fails\n",
    "            else:\n",
    "                print(\"WARN: Report type was 'html' but no HTML content found in response.\")\n",
    "\n",
    "            # print logging\n",
    "            print(\"\\n--- Execution Logs (stderr) ---\")\n",
    "            print(logs)\n",
    "            if stdout_logs:\n",
    "                print(\"\\n--- Execution Output (stdout) ---\")\n",
    "                print(stdout_logs)\n",
    "\n",
    "        elif report_type == 'logs_only':\n",
    "            print(f\"Report Type: Logs Only (Report generation skipped).\")\n",
    "            print(f\"Message: {result_data.get('message')}\")\n",
    "            print(\"\\n--- Execution Logs (stderr) ---\")\n",
    "            print(result_data.get('logs', 'No stderr logs received.'))\n",
    "            if 'stdout' in result_data:\n",
    "                 print(\"\\n--- Execution Output (stdout) ---\")\n",
    "                 print(result_data.get('stdout', 'No stdout received.'))\n",
    "        else:\n",
    "            print(f\"WARN: Received successful response with unknown report_type: '{report_type}'\")\n",
    "            print(\"\\n--- Full JSON Response ---\")\n",
    "            print(json.dumps(result_data, indent=2, ensure_ascii=False))\n",
    "\n",
    "    except json.JSONDecodeError:\n",
    "        print(\"ERROR: Failed to decode JSON response from successful API call.\")\n",
    "        print(f\"Content-Type: {response.headers.get('content-type', 'N/A')}\")\n",
    "        print(\"\\n--- Received Raw Content (First 1000 chars) ---\")\n",
    "        print(response.text[:1000] + \"...\")\n",
    "\n",
    "except requests.exceptions.Timeout:\n",
    "    print(f\"\\n--- API call failed: Timeout) ---\")\n",
    "except requests.exceptions.HTTPError as e:\n",
    "    print(f\"\\n--- API call failed: HTTP Error {e.response.status_code} ---\")\n",
    "    try:\n",
    "        error_details = e.response.json()\n",
    "        print(\"Error details:\")\n",
    "        print(json.dumps(error_details, indent=2, ensure_ascii=False))\n",
    "    except json.JSONDecodeError:\n",
    "        print(\"Error response content (Non-JSON):\")\n",
    "        print(e.response.text)\n",
    "except requests.exceptions.RequestException as e:\n",
    "    print(f\"\\n--- API call failure: Request Error ---\")\n",
    "    print(f\"Error connecting to or requesting the API server ({url}): {e}\")\n",
    "except Exception as e:\n",
    "    print(f\"\\n--- Unexpected error occurred ---\")\n",
    "    print(f\"Error type: {type(e).__name__}, Content: {e}\")"
   ]
  },
  {
   "cell_type": "code",
   "execution_count": null,
   "id": "e2b69b40",
   "metadata": {},
   "outputs": [],
   "source": []
  },
  {
   "cell_type": "code",
   "execution_count": null,
   "id": "11594baf",
   "metadata": {},
   "outputs": [],
   "source": []
  }
 ],
 "metadata": {
  "kernelspec": {
   "display_name": "llm",
   "language": "python",
   "name": "llm"
  },
  "language_info": {
   "codemirror_mode": {
    "name": "ipython",
    "version": 3
   },
   "file_extension": ".py",
   "mimetype": "text/x-python",
   "name": "python",
   "nbconvert_exporter": "python",
   "pygments_lexer": "ipython3",
   "version": "3.13.7"
  }
 },
 "nbformat": 4,
 "nbformat_minor": 5
}
