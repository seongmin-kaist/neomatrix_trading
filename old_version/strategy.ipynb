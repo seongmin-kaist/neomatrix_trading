{
 "cells": [
  {
   "cell_type": "code",
   "execution_count": 1,
   "id": "c459ed75",
   "metadata": {},
   "outputs": [
    {
     "name": "stdout",
     "output_type": "stream",
     "text": [
      "USER_KEY: cc3948f0cd364a9f684a1fe78b9229ba\n",
      "DATA_KEY: a71eaf04-802f-40be-93c2-5bee2548f4db\n"
     ]
    }
   ],
   "source": [
    "USER_KEY = \"cc3948f0cd364a9f684a1fe78b9229ba\"      #  Input your User key\n",
    "DATA_KEY = \"a71eaf04-802f-40be-93c2-5bee2548f4db\"  #  Fixed Data Api key\n",
    "\n",
    "print(\"USER_KEY:\", USER_KEY if USER_KEY else \"Not found\")\n",
    "print(\"DATA_KEY:\", DATA_KEY if DATA_KEY else \"Not found\")"
   ]
  },
  {
   "cell_type": "code",
   "execution_count": 82,
   "id": "23f67f66",
   "metadata": {},
   "outputs": [
    {
     "data": {
      "text/plain": [
       "{'message': 'API Server is Running.',\n",
       " 'status': 200,\n",
       " 'User status': 'active',\n",
       " 'Expires At': '2025-10-01T00:00:00',\n",
       " 'Level': 1}"
      ]
     },
     "execution_count": 82,
     "metadata": {},
     "output_type": "execute_result"
    }
   ],
   "source": [
    "import requests\n",
    "\n",
    "root_url = f'https://aifapbt.fin.cloud.ainode.ai/'\n",
    "\n",
    "headers = {\"API-KEY\": USER_KEY}\n",
    "requests.get(root_url, headers=headers).json()"
   ]
  },
  {
   "cell_type": "code",
   "execution_count": 83,
   "id": "5042e6da",
   "metadata": {},
   "outputs": [
    {
     "name": "stdout",
     "output_type": "stream",
     "text": [
      "📂 Upload Response: {'message': \"'simple_reversion' Strategy Updated Successfully!\"}\n"
     ]
    }
   ],
   "source": [
    "import os\n",
    "strategy_name = \"simple_reversion\"\n",
    "\n",
    "# Upload or Update strategy file\n",
    "endpoint = 'upload/strategy'\n",
    "url = root_url + endpoint\n",
    "\n",
    "base_path = \"/Users/seongmin/Desktop/neomatrix_trading/futures\"\n",
    "file_path = os.path.join(base_path, strategy_name, strategy_name + \".py\")\n",
    "\n",
    "params = {'tradeType':'futures', 'overwrite': True} # If overwrite is True, it will modify the existing file.\n",
    "\n",
    "with open(file_path, \"rb\") as f:\n",
    "    files = {\"file\": f}\n",
    "    response = requests.post(url, headers=headers, params=params, files=files)\n",
    "\n",
    "print(\"📂 Upload Response:\", response.json())"
   ]
  },
  {
   "cell_type": "code",
   "execution_count": 84,
   "id": "0f721cae",
   "metadata": {},
   "outputs": [
    {
     "name": "stdout",
     "output_type": "stream",
     "text": [
      "# strategy.py\n",
      "import pandas as pd\n",
      "import numpy as np\n",
      "\n",
      "def strategy(df, config_dict):\n",
      "    \"\"\"\n",
      "    Generates a mean-reversion signal based on historical cumulative returns.\n",
      "\n",
      "    The signal is the negative of the cumulative return over a lookback period,\n",
      "    ignoring the most recent 'lag' periods. This strategy sells recent\n",
      "    winners and buys recent losers.\n",
      "    \"\"\"\n",
      "    # --- Input validation ---\n",
      "    if not isinstance(df, pd.DataFrame):\n",
      "        raise TypeError(\"Input must be a pandas DataFrame.\")\n",
      "    if df.empty:\n",
      "        raise ValueError(\"Input DataFrame is empty.\")\n",
      "    if not isinstance(config_dict, dict):\n",
      "        raise TypeError(\"config_dict must be a dictionary.\")\n",
      "\n",
      "    # --- Load strategy-specific config ---\n",
      "    strategy_specific_config = config_dict.get(\"strategy_config\", {})\n",
      "    # Lookback period in hours for the return calculation\n",
      "    lookback_hours = strategy_specific_config.get(\"lookback_hours\", 10)\n",
      "    # Number of recent hours to ignore in the calculation\n",
      "    lag_hours = strategy_specific_config.get(\"lag_hours\", 1)\n",
      "\n",
      "    # --- Signal Calculation ---\n",
      "    signals = {}\n",
      "    total_window = lookback_hours + lag_hours\n",
      "\n",
      "    for symbol in df.columns:\n",
      "        series = df[symbol].dropna()\n",
      "        # Ensure there's enough data for the calculation\n",
      "        if len(series) < total_window + 1:\n",
      "            continue\n",
      "\n",
      "        # Define the start and end points for the return calculation\n",
      "        # The end point is `lag_hours` ago from the most recent price\n",
      "        price_end = series.iloc[-(lag_hours + 1)]\n",
      "        # The start point is `lookback_hours` before the end point\n",
      "        price_start = series.iloc[-(total_window + 1)]\n",
      "\n",
      "        # Avoid division by zero\n",
      "        if price_start == 0:\n",
      "            continue\n",
      "            \n",
      "        # Calculate the cumulative return over the specified window\n",
      "        cumulative_return = (price_end / price_start) - 1\n",
      "        \n",
      "        # The signal is the negative of the return (mean-reversion)\n",
      "        signals[symbol] = -cumulative_return\n",
      "\n",
      "    if not signals:\n",
      "        return {}\n",
      "    \n",
      "    # --- Weight Allocation ---\n",
      "    # Normalize signals so that the sum of absolute weights equals 1.0\n",
      "    total_abs_signal = sum(abs(s) for s in signals.values())\n",
      "    \n",
      "    # If all signals are zero, return empty weights\n",
      "    if total_abs_signal == 0:\n",
      "        return {}\n",
      "\n",
      "    weights = {s: sig / total_abs_signal for s, sig in signals.items()}\n",
      "\n",
      "\n",
      "    return weights\n"
     ]
    }
   ],
   "source": [
    "# Check strategy file upload\n",
    "endpoint = 'upload/check/strategy'\n",
    "url = root_url + endpoint\n",
    "\n",
    "params = {\"tradeType\": \"futures\", \"strategy_name\": strategy_name}\n",
    "\n",
    "response = requests.get(url, headers=headers, params=params)\n",
    "print(response.json()['content'])"
   ]
  },
  {
   "cell_type": "code",
   "execution_count": 85,
   "id": "0656d65a",
   "metadata": {},
   "outputs": [
    {
     "name": "stdout",
     "output_type": "stream",
     "text": [
      "📂 Upload Response: {'message': \"'simple_reversion' Strategy-Config Updated Successfully!\"}\n"
     ]
    }
   ],
   "source": [
    "# Upload or Update strategy-config file\n",
    "endpoint = 'upload/strategy-config'\n",
    "url = root_url + endpoint\n",
    "\n",
    "strategy_config_name = strategy_name + \"_config\"\n",
    "base_path = \"/Users/seongmin/Desktop/neomatrix_trading/futures/\"\n",
    "file_path = os.path.join(base_path, strategy_name, strategy_config_name + \".py\")\n",
    "\n",
    "params = {\"tradeType\": \"futures\", \"overwrite\": True} # If overwrite is True, it will modify the existing file.\n",
    "\n",
    "with open(file_path, \"rb\") as f:\n",
    "    files = {\"file\": f}\n",
    "    response = requests.post(url, headers=headers, params=params, files=files)\n",
    "\n",
    "print(\"📂 Upload Response:\", response.json())"
   ]
  },
  {
   "cell_type": "code",
   "execution_count": 86,
   "id": "a94ee324",
   "metadata": {},
   "outputs": [
    {
     "name": "stdout",
     "output_type": "stream",
     "text": [
      "# strategy_config.py\n",
      "\n",
      "strategy_config = {\n",
      "    \"lookback_hours\": 10,  # Lookback period for cumulative return calculation\n",
      "    \"lag_hours\": 1         # How many recent hours to ignore from the lookback\n",
      "}\n"
     ]
    }
   ],
   "source": [
    "# Check strategy-config file upload\n",
    "endpoint = 'upload/check/strategy-config'\n",
    "url = root_url + endpoint\n",
    "\n",
    "params = {\"tradeType\": \"futures\", \"strategy_name\": strategy_name}\n",
    "\n",
    "response = requests.get(url, headers=headers, params=params)\n",
    "print(response.json()['content'])"
   ]
  },
  {
   "cell_type": "code",
   "execution_count": 87,
   "id": "870195e5",
   "metadata": {},
   "outputs": [
    {
     "name": "stdout",
     "output_type": "stream",
     "text": [
      "📂 Upload Response: {'message': \"'Futures' System-Config Updated Successfully!\"}\n"
     ]
    }
   ],
   "source": [
    "# Upload or Update system-config file\n",
    "endpoint = \"upload/system-config\"\n",
    "url = root_url + endpoint\n",
    "\n",
    "system_config_name = \"futures_config\"\n",
    "base_path = \"/Users/seongmin/Desktop/neomatrix_trading/futures\"\n",
    "file_path = os.path.join(base_path, system_config_name + \".py\")\n",
    "\n",
    "params = {\"tradeType\": \"futures\", \"overwrite\": True} # If overwrite is True, it will modify the existing file.\n",
    "\n",
    "with open(file_path, \"rb\") as f:\n",
    "    files = {\"file\": f}\n",
    "    response = requests.post(url, headers=headers, params=params, files=files)\n",
    "\n",
    "print(\"📂 Upload Response:\", response.json())"
   ]
  },
  {
   "cell_type": "code",
   "execution_count": 88,
   "id": "1e6e6f52",
   "metadata": {},
   "outputs": [
    {
     "name": "stdout",
     "output_type": "stream",
     "text": [
      "# ==========================\n",
      "# Required System Settings\n",
      "# ==========================\n",
      "system_config = {\n",
      "    \"data_apikey\": \"a71eaf04-802f-40be-93c2-5bee2548f4db\",\n",
      "    \"tz_str\": \"Asia/Seoul\", \n",
      "    \"timeframe\": \"1min\",\n",
      "    \"orderType\": \"market\",\n",
      "    \"base_symbol\": \"BTCUSDT\",\n",
      "    \"productType\": \"usdt-futures\",\n",
      "    \"posMode\": \"hedge_mode\",\n",
      "    \"holdSide\": \"long\",                   \n",
      "    \"marginMode\": \"crossed\",\n",
      "    \"marginCoin\": \"usdt\",\n",
      "    \"symbols\": ['BTCUSDT', 'ETHUSDT', 'LTCUSDT', 'TRXUSDT', 'DOTUSDT', 'DOGEUSDT', 'XRPUSDT', 'BCHUSDT', 'ADAUSDT'],\n",
      "    \"leverage\": 5,\n",
      "    \"trading_hours\": 6,\n",
      "    \"total_allocation\": 0.4, \n",
      "}\n",
      "\n",
      "\n",
      "# ==========================\n",
      "# Rebalancing Trade Parameters\n",
      "# ==========================\n",
      "rebalancing_config = {\n",
      "    \"rebalancing_interval_hours\": 1, # Rebalancing cycle (hours)\n",
      "}\n",
      "\n"
     ]
    }
   ],
   "source": [
    "# Check system-config file upload\n",
    "endpoint = \"upload/check/system-config\"\n",
    "url = root_url + endpoint\n",
    "\n",
    "params = {\"tradeType\": \"futures\"}\n",
    "\n",
    "response = requests.get(url, headers=headers, params=params)\n",
    "print(response.json()['content'])"
   ]
  },
  {
   "cell_type": "code",
   "execution_count": 89,
   "id": "0382e20e",
   "metadata": {},
   "outputs": [
    {
     "name": "stdout",
     "output_type": "stream",
     "text": [
      "session_id : 7e07128e\n",
      "dashboard : https://aifapbt.fin.cloud.ainode.ai/dashboard/live_futures_trading_dashbaord.html\n"
     ]
    }
   ],
   "source": [
    "# run-system\n",
    "endpoint = 'command/run-system'\n",
    "url = root_url + endpoint\n",
    "\n",
    "data = {\n",
    "    \"tradeType\": \"futures\",\n",
    "    \"strategy_name\": strategy_name,\n",
    "    \"trade_mode\": \"rebalancing\",\n",
    "    \"trade_env\": \"live\"\n",
    "}\n",
    "\n",
    "response = requests.post(url, headers=headers, json=data)\n",
    "\n",
    "try:\n",
    "    session_id = response.json()['session_id']\n",
    "    print('session_id :',response.json()['session_id'])\n",
    "    print('dashboard :',response.json()['dashboard_url'])\n",
    "except:\n",
    "    print('Error :',response.json()['message']['message'])\n",
    "\n",
    "    session_id = response.json()['message']['session_id']\n",
    "    print('session_id id :',session_id)\n",
    "\n",
    "    print('dashboard :',response.json()['message']['dashboard_url'])"
   ]
  },
  {
   "cell_type": "code",
   "execution_count": 80,
   "id": "1e05e6b8",
   "metadata": {},
   "outputs": [
    {
     "name": "stdout",
     "output_type": "stream",
     "text": [
      "{'message': 'Session d407b770 is terminated.'}\n"
     ]
    }
   ],
   "source": [
    "# Terminate process\n",
    "# You must execute terminate to force liquidation of the current process.\n",
    "endpoint = 'command/terminate'\n",
    "url = root_url + endpoint\n",
    "\n",
    "params = {\"session_id\": f\"{session_id}\", \"tradeType\": 'futures'}\n",
    "\n",
    "response = requests.get(url, headers=headers, params=params)\n",
    "print(response.json())"
   ]
  },
  {
   "cell_type": "code",
   "execution_count": null,
   "id": "2049ec2c",
   "metadata": {},
   "outputs": [],
   "source": []
  }
 ],
 "metadata": {
  "kernelspec": {
   "display_name": "llm",
   "language": "python",
   "name": "llm"
  },
  "language_info": {
   "codemirror_mode": {
    "name": "ipython",
    "version": 3
   },
   "file_extension": ".py",
   "mimetype": "text/x-python",
   "name": "python",
   "nbconvert_exporter": "python",
   "pygments_lexer": "ipython3",
   "version": "3.13.7"
  }
 },
 "nbformat": 4,
 "nbformat_minor": 5
}
